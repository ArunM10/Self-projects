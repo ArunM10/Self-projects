{
 "cells": [
  {
   "cell_type": "code",
   "execution_count": 2,
   "metadata": {},
   "outputs": [],
   "source": [
    "import pennylane as qml\n",
    "from pennylane import numpy as np"
   ]
  },
  {
   "cell_type": "code",
   "execution_count": 5,
   "metadata": {},
   "outputs": [],
   "source": [
    "dev = qml.device(\"default.qubit.autograd\", wires=1)"
   ]
  },
  {
   "cell_type": "code",
   "execution_count": 22,
   "metadata": {},
   "outputs": [],
   "source": [
    "def decomposition(params):\n",
    "    qml.PhaseShift(params[0], wires=0)\n",
    "    #qml.RX(params[1], wires=0)\n",
    "    #qml.PhaseShift(params[2], wires=0)\n",
    "    qml.Rot(params[1],params[2],params[3],wires=0)\n",
    "    \n",
    "\n",
    "# notice to use diff_method=\"backprop\"\n",
    "\n",
    "\n",
    "@qml.qnode(dev, diff_method=\"backprop\")\n",
    "\n",
    "def f(params, state, apply_inv=True):\n",
    "    qml.BasisState(np.array(state), wires=0)\n",
    "    decomposition(params)\n",
    "    if apply_inv:\n",
    "        qml.PauliX(wires=0).inv()\n",
    "    return qml.state()"
   ]
  },
  {
   "cell_type": "code",
   "execution_count": 23,
   "metadata": {},
   "outputs": [
    {
     "name": "stdout",
     "output_type": "stream",
     "text": [
      "[0]\n"
     ]
    }
   ],
   "source": [
    "params = np.random.random(4)\n",
    "Id = np.eye(2, requires_grad=False)\n",
    "state_vector=np.array([[0],[1]])\n",
    "print(state_vector[0])"
   ]
  },
  {
   "cell_type": "code",
   "execution_count": 24,
   "metadata": {},
   "outputs": [],
   "source": [
    "def cost_state(params, i):\n",
    "    state=state_vector[i]\n",
    "    return np.sum(np.abs(f(params, state) - Id[i]))\n",
    "\n",
    "def cost(params):\n",
    "    return sum(cost_state(params, i) for i in range(2))"
   ]
  },
  {
   "cell_type": "code",
   "execution_count": 25,
   "metadata": {},
   "outputs": [
    {
     "name": "stdout",
     "output_type": "stream",
     "text": [
      "Cost at step 0: 3.850552311240353\n",
      "Cost at step 300: 1.473377408991543\n",
      "Cost at step 600: 0.023257203156229\n",
      "Cost at step 900: 0.023290674684158165\n",
      "Cost at step 1200: 0.023324581157765433\n",
      "Cost at step 1500: 0.023358928465624058\n",
      "Cost at step 1800: 0.023393722576656752\n",
      "Cost at step 2100: 0.02342896954123189\n",
      "Cost at step 2400: 0.023464675492241766\n",
      "Cost at step 2700: 0.02350084664621641\n",
      "Cost at step 3000: 0.02353748930447359\n"
     ]
    }
   ],
   "source": [
    "opt = qml.GradientDescentOptimizer(stepsize=0.01)\n",
    "\n",
    "for i in range(3000+1):\n",
    "    params = opt.step(cost, params)\n",
    "\n",
    "    if i % 300 == 0:\n",
    "        print(f\"Cost at step {i}:\", cost(params))"
   ]
  },
  {
   "cell_type": "code",
   "execution_count": 113,
   "metadata": {},
   "outputs": [
    {
     "name": "stdout",
     "output_type": "stream",
     "text": [
      "Cost at step 0: 2.456014282759185\n",
      "Cost at step 300: 1.6440519781546081\n",
      "Cost at step 600: 0.03099321552951417\n",
      "Cost at step 900: 0.031113818644278455\n",
      "Cost at step 1200: 0.031235795177878497\n",
      "Cost at step 1500: 0.03135916225995361\n",
      "Cost at step 1800: 0.031483937224800265\n",
      "Cost at step 2100: 0.03161013761377303\n",
      "Cost at step 2400: 0.03173778117778315\n",
      "Cost at step 2700: 0.03186688587978385\n",
      "Cost at step 3000: 0.03199746989728698\n"
     ]
    }
   ],
   "source": [
    "opt = qml.GradientDescentOptimizer(stepsize=0.01)\n",
    "\n",
    "for i in range(3000+1):\n",
    "    params = opt.step(cost, params)\n",
    "\n",
    "    if i % 300 == 0:\n",
    "        print(f\"Cost at step {i}:\", cost(params))"
   ]
  },
  {
   "cell_type": "code",
   "execution_count": 20,
   "metadata": {},
   "outputs": [],
   "source": [
    "def get_unitary(params):\n",
    "    return np.array([f(params, state, apply_inv=False) for state in state_vector])"
   ]
  },
  {
   "cell_type": "code",
   "execution_count": 26,
   "metadata": {},
   "outputs": [
    {
     "name": "stdout",
     "output_type": "stream",
     "text": [
      "\n",
      "Optimized unitary:\n",
      " [[-0.00282203+0.00284476j  0.99997294-0.0061702j ]\n",
      " [ 0.99994823+0.00935296j  0.00281296+0.00285373j]]\n",
      "Ideal unitary:\n",
      " [[0 1]\n",
      " [1 0]]\n",
      "\n",
      "Optimized params: [3.14477554 0.79557962 3.1496068  0.78323904]\n",
      "Expected params:  [1.57079633 1.57079633 1.57079633]\n"
     ]
    }
   ],
   "source": [
    "print(\"\\nOptimized unitary:\\n\", (get_unitary(params)))\n",
    "print(\"Ideal unitary:\\n\", qml.PauliX.matrix)\n",
    "\n",
    "print(\"\\nOptimized params:\", params.numpy())\n",
    "print(\"Expected params: \", np.array([np.pi / 2] * 3))"
   ]
  },
  {
   "cell_type": "code",
   "execution_count": 15,
   "metadata": {},
   "outputs": [
    {
     "name": "stdout",
     "output_type": "stream",
     "text": [
      "[0. 1.]\n"
     ]
    }
   ],
   "source": [
    "print(Id[1])"
   ]
  },
  {
   "cell_type": "code",
   "execution_count": 17,
   "metadata": {},
   "outputs": [
    {
     "data": {
      "text/plain": [
       "tensor([0.70710678+0.j, 0.70710678+0.j], requires_grad=True)"
      ]
     },
     "execution_count": 17,
     "metadata": {},
     "output_type": "execute_result"
    }
   ],
   "source": [
    "f([.9,1,5,1.3],0)"
   ]
  },
  {
   "cell_type": "code",
   "execution_count": null,
   "metadata": {},
   "outputs": [],
   "source": []
  }
 ],
 "metadata": {
  "kernelspec": {
   "display_name": "Python 3",
   "language": "python",
   "name": "python3"
  },
  "language_info": {
   "codemirror_mode": {
    "name": "ipython",
    "version": 3
   },
   "file_extension": ".py",
   "mimetype": "text/x-python",
   "name": "python",
   "nbconvert_exporter": "python",
   "pygments_lexer": "ipython3",
   "version": "3.8.5"
  }
 },
 "nbformat": 4,
 "nbformat_minor": 4
}
